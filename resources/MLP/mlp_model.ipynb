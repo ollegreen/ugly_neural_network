{
 "cells": [
  {
   "cell_type": "code",
   "execution_count": 1,
   "metadata": {},
   "outputs": [],
   "source": [
    "import numpy as np\n",
    "import matplotlib.pyplot as plt\n",
    "import time\n",
    "import pandas as pd\n",
    "import sys\n",
    "\n",
    "import torch\n",
    "import torch.nn as nn\n",
    "\n",
    "from torchmetrics import MeanAbsolutePercentageError\n",
    "\n",
    "from data.passenger import get_passenger_data\n",
    "from data.gold import get_gold_data"
   ]
  },
  {
   "cell_type": "code",
   "execution_count": 2,
   "metadata": {},
   "outputs": [
    {
     "data": {
      "text/plain": [
       "array([ 0. ,  2.5,  5. ,  7.5, 10. ])"
      ]
     },
     "execution_count": 2,
     "metadata": {},
     "output_type": "execute_result"
    }
   ],
   "source": [
    "n = np.linspace(0,10,5)\n",
    "n"
   ]
  },
  {
   "cell_type": "code",
   "execution_count": 3,
   "metadata": {},
   "outputs": [
    {
     "data": {
      "text/plain": [
       "tensor([ 0.0000,  2.5000,  5.0000,  7.5000, 10.0000])"
      ]
     },
     "execution_count": 3,
     "metadata": {},
     "output_type": "execute_result"
    }
   ],
   "source": [
    "t = torch.linspace(0,10,5)\n",
    "t"
   ]
  },
  {
   "cell_type": "code",
   "execution_count": 4,
   "metadata": {},
   "outputs": [],
   "source": [
    "gold_data = get_gold_data()\n",
    "passenger_data = get_passenger_data()"
   ]
  },
  {
   "cell_type": "code",
   "execution_count": 6,
   "metadata": {},
   "outputs": [
    {
     "data": {
      "text/html": [
       "<div>\n",
       "<style scoped>\n",
       "    .dataframe tbody tr th:only-of-type {\n",
       "        vertical-align: middle;\n",
       "    }\n",
       "\n",
       "    .dataframe tbody tr th {\n",
       "        vertical-align: top;\n",
       "    }\n",
       "\n",
       "    .dataframe thead th {\n",
       "        text-align: right;\n",
       "    }\n",
       "</style>\n",
       "<table border=\"1\" class=\"dataframe\">\n",
       "  <thead>\n",
       "    <tr style=\"text-align: right;\">\n",
       "      <th></th>\n",
       "      <th>Date</th>\n",
       "      <th>Passengers</th>\n",
       "    </tr>\n",
       "  </thead>\n",
       "  <tbody>\n",
       "    <tr>\n",
       "      <th>0</th>\n",
       "      <td>1949-01</td>\n",
       "      <td>112</td>\n",
       "    </tr>\n",
       "    <tr>\n",
       "      <th>1</th>\n",
       "      <td>1949-02</td>\n",
       "      <td>118</td>\n",
       "    </tr>\n",
       "  </tbody>\n",
       "</table>\n",
       "</div>"
      ],
      "text/plain": [
       "      Date  Passengers\n",
       "0  1949-01         112\n",
       "1  1949-02         118"
      ]
     },
     "execution_count": 6,
     "metadata": {},
     "output_type": "execute_result"
    }
   ],
   "source": [
    "#gold_data.head()\n",
    "passenger_data.head(2)"
   ]
  },
  {
   "cell_type": "code",
   "execution_count": 7,
   "metadata": {},
   "outputs": [
    {
     "name": "stdout",
     "output_type": "stream",
     "text": [
      "tensor([112, 118, 132, 129, 121, 135, 148, 148, 136, 119, 104, 118, 115, 126,\n",
      "        141, 135, 125, 149, 170, 170, 158, 133, 114, 140, 145, 150, 178, 163,\n",
      "        172, 178, 199, 199, 184, 162, 146, 166, 171, 180, 193, 181, 183, 218,\n",
      "        230, 242, 209, 191, 172, 194, 196, 196, 236, 235, 229, 243, 264, 272,\n",
      "        237, 211, 180, 201, 204, 188, 235, 227, 234, 264, 302, 293, 259, 229,\n",
      "        203, 229, 242, 233, 267, 269, 270, 315, 364, 347, 312, 274, 237, 278,\n",
      "        284, 277, 317, 313, 318, 374, 413, 405, 355, 306, 271, 306, 315, 301,\n",
      "        356, 348, 355, 422, 465, 467, 404, 347, 305, 336, 340, 318, 362, 348,\n",
      "        363, 435, 491, 505, 404, 359, 310, 337, 360, 342, 406, 396, 420, 472,\n",
      "        548, 559, 463, 407, 362, 405, 417, 391, 419, 461, 472, 535, 622, 606,\n",
      "        508, 461, 390, 432])\n"
     ]
    }
   ],
   "source": [
    "# creating tensor from targets_df \n",
    "passenger_tensor = torch.tensor(passenger_data['Passengers'].values)\n",
    "\n",
    "# printing out result\n",
    "print(passenger_tensor)"
   ]
  },
  {
   "cell_type": "code",
   "execution_count": null,
   "metadata": {},
   "outputs": [],
   "source": []
  }
 ],
 "metadata": {
  "kernelspec": {
   "display_name": "envone",
   "language": "python",
   "name": "python3"
  },
  "language_info": {
   "codemirror_mode": {
    "name": "ipython",
    "version": 3
   },
   "file_extension": ".py",
   "mimetype": "text/x-python",
   "name": "python",
   "nbconvert_exporter": "python",
   "pygments_lexer": "ipython3",
   "version": "3.10.9"
  },
  "orig_nbformat": 4,
  "vscode": {
   "interpreter": {
    "hash": "f38e2ed7d33d0cd348929fdec04130ea28e5de924783621f1ad975f129a865a4"
   }
  }
 },
 "nbformat": 4,
 "nbformat_minor": 2
}
